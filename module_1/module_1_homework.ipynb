{
 "cells": [
  {
   "cell_type": "markdown",
   "metadata": {
    "pycharm": {
     "name": "#%% md\n"
    }
   },
   "source": [
    "# Домашнее задание на проверку знаний библиотеки для анализа данных Pandas.\n",
    "\n",
    "Вам представлен датасет, который содержит информацию по результатам сезона 2016 года игры в бейсбол.\n",
    "\n",
    "Вам необходимо загрузить датасет (он находится в архиве с текущим домашним заданием). Провести его очистку, если это необходимо и ответить на поставленные аналитические\n",
    "вопросы.\n",
    "\n",
    "Список колонок, представленных в датасете:\n",
    "\n",
    "---\n",
    "* attendance        - количество зрителей матча\n",
    "* away_team         - название гостевой команды\n",
    "* away_team_errors  - количество ошибок гостевой команды\n",
    "* away_team_hits    - количество хитов гостевой команды (хит в бейсболе - удар при котором отбивающий достиг первой базы)\n",
    "* away_team_runs    - количество ранов гостевой команды (ран в бейсболе - очко заработанное игроком нападения)\n",
    "* date              - дата проведения матча\n",
    "* field_type        - тип игрового поля\n",
    "* game_type         - тип игры\n",
    "* home_team         - название домашней команды\n",
    "* home_team_errors  - количество ошибок домашней команды\n",
    "* home_team_hits    - количество хитов домашней команды (хит в бейсболе - удар при котором отбивающий достиг первой базы)\n",
    "* home_team_runs    - количество ранов домашней команды (ран в бейсболе - очко заработанное игроком нападения)\n",
    "* start_time        - время начала игрового матча\n",
    "* venue             - название места проведения матча (стадион, поле, арена)\n",
    "* day_of_week       - день недели проведения матча\n",
    "* temperature       - температура воздуха в день проведения матча в фаренгейтах\n",
    "* wind_speed        - скорость ветра в день проведения матча\n",
    "* wind_direction    - направление скорости ветра\n",
    "* sky               - облачность\n",
    "* total_runs        - общее количество ранов для двух команд\n",
    "* game_hours_dec    - длительность матча указаная в часах\n",
    "* season            - тип игрового сезона\n",
    "* home_team_win     - результат домашней команды (1 - выигрыш)\n",
    "* home_team_loss    - результат домашней команды (0 - проигрыш)\n",
    "* home_team_outcome - исход матча\n",
    "---\n",
    "\n",
    "Всего в задании 20 вопросов. За каждый правильный вопрос начисляется 5 баллов. Таким образом за все правильные ответы вы получите - 100 баллов. Оценка затем будет приведена к 10-ти бальной шкале.\n",
    "\n",
    "---\n",
    "\n",
    "**Кроме того, баллы могут быть снижены за**:\n",
    "\n",
    "- 1 балл снижается за качество кода - старайтесь чтобы код был максимально лаконичным. Названия переменных (если они используются) должны отражать максимальную ее сущность. Вывод старайтесь делать минимальным, так как первичная цель - сделать качественный анализ, чтобы быстро ответить на поставленный вопрос (никаких таблиц на 100 строк)."
   ]
  },
  {
   "cell_type": "markdown",
   "metadata": {},
   "source": [
    "\n",
    "В бейсболе есть несколько ключевых терминов, которые обозначают разные аспекты игры:\r\n",
    "\r\n",
    "Матч (игра): Это отдельное соревнование между двумя командами. Каждый матч состоит из девяти иннингов, в течение которых команды поочередно атакуют и защищаются. Цель каждой команды — набрать больше очков (ранов), чем соперн\n",
    "ик.\r\n",
    "Сезон: Это период времени, в течение которого проводятся матчи. В профессиональном бейсболе сезон обычно длится несколько месяцев и включает в себя множество матчей между различными командами. Сезон может быть регулярным, в котором команды соревнуются за место в плей-офф, и постсезонным, где команды с лучшими результатами борются за чемпионс\n",
    "тво.\r\n",
    "Таким образом, матч — это единичное событие, а сезон — это совокупность матчей, которые проводятся в течение определенного времени."
   ]
  },
  {
   "cell_type": "code",
   "execution_count": 3,
   "metadata": {
    "pycharm": {
     "name": "#%%\n"
    }
   },
   "outputs": [],
   "source": [
    "# Импортируйте все необходимые библиотеки и модули которые вам необходимы\n",
    "import numpy as np\n",
    "import pandas as pd\n",
    "import scipy.stats as st"
   ]
  },
  {
   "cell_type": "code",
   "execution_count": 4,
   "metadata": {
    "pycharm": {
     "name": "#%%\n"
    }
   },
   "outputs": [
    {
     "name": "stdout",
     "output_type": "stream",
     "text": [
      "<class 'pandas.core.frame.DataFrame'>\n",
      "Index: 2463 entries, 0 to 2462\n",
      "Data columns (total 25 columns):\n",
      " #   Column             Non-Null Count  Dtype  \n",
      "---  ------             --------------  -----  \n",
      " 0   attendance         2460 non-null   float64\n",
      " 1   away_team          2463 non-null   object \n",
      " 2   away_team_errors   2463 non-null   int64  \n",
      " 3   away_team_hits     2463 non-null   int64  \n",
      " 4   away_team_runs     2463 non-null   int64  \n",
      " 5   date               2463 non-null   object \n",
      " 6   field_type         2463 non-null   object \n",
      " 7   game_type          2463 non-null   object \n",
      " 8   home_team          2463 non-null   object \n",
      " 9   home_team_errors   2463 non-null   int64  \n",
      " 10  home_team_hits     2463 non-null   int64  \n",
      " 11  home_team_runs     2463 non-null   int64  \n",
      " 12  start_time         2463 non-null   object \n",
      " 13  venue              2463 non-null   object \n",
      " 14  day_of_week        2463 non-null   object \n",
      " 15  temperature        2463 non-null   float64\n",
      " 16  wind_speed         2463 non-null   float64\n",
      " 17  wind_direction     2463 non-null   object \n",
      " 18  sky                2463 non-null   object \n",
      " 19  total_runs         2463 non-null   int64  \n",
      " 20  game_hours_dec     2463 non-null   float64\n",
      " 21  season             2463 non-null   object \n",
      " 22  home_team_win      2463 non-null   int64  \n",
      " 23  home_team_loss     2463 non-null   int64  \n",
      " 24  home_team_outcome  2463 non-null   object \n",
      "dtypes: float64(4), int64(9), object(12)\n",
      "memory usage: 500.3+ KB\n"
     ]
    }
   ],
   "source": [
    "# Загрузите датасет и проведите его очистку и форматирование если это необходимо\n",
    "data = pd.read_csv('../practical_task1/baseball_games.csv', index_col=0)\n",
    "data.info()"
   ]
  },
  {
   "cell_type": "code",
   "execution_count": 5,
   "metadata": {},
   "outputs": [
    {
     "data": {
      "text/html": [
       "<div>\n",
       "<style scoped>\n",
       "    .dataframe tbody tr th:only-of-type {\n",
       "        vertical-align: middle;\n",
       "    }\n",
       "\n",
       "    .dataframe tbody tr th {\n",
       "        vertical-align: top;\n",
       "    }\n",
       "\n",
       "    .dataframe thead th {\n",
       "        text-align: right;\n",
       "    }\n",
       "</style>\n",
       "<table border=\"1\" class=\"dataframe\">\n",
       "  <thead>\n",
       "    <tr style=\"text-align: right;\">\n",
       "      <th></th>\n",
       "      <th>attendance</th>\n",
       "      <th>away_team</th>\n",
       "      <th>away_team_errors</th>\n",
       "      <th>away_team_hits</th>\n",
       "      <th>away_team_runs</th>\n",
       "      <th>date</th>\n",
       "      <th>field_type</th>\n",
       "      <th>game_type</th>\n",
       "      <th>home_team</th>\n",
       "      <th>home_team_errors</th>\n",
       "      <th>...</th>\n",
       "      <th>temperature</th>\n",
       "      <th>wind_speed</th>\n",
       "      <th>wind_direction</th>\n",
       "      <th>sky</th>\n",
       "      <th>total_runs</th>\n",
       "      <th>game_hours_dec</th>\n",
       "      <th>season</th>\n",
       "      <th>home_team_win</th>\n",
       "      <th>home_team_loss</th>\n",
       "      <th>home_team_outcome</th>\n",
       "    </tr>\n",
       "  </thead>\n",
       "  <tbody>\n",
       "    <tr>\n",
       "      <th>0</th>\n",
       "      <td>40030.0</td>\n",
       "      <td>New York Mets</td>\n",
       "      <td>1</td>\n",
       "      <td>7</td>\n",
       "      <td>3</td>\n",
       "      <td>2016-04-03</td>\n",
       "      <td>on grass</td>\n",
       "      <td>Night Game</td>\n",
       "      <td>Kansas City Royals</td>\n",
       "      <td>0</td>\n",
       "      <td>...</td>\n",
       "      <td>74.0</td>\n",
       "      <td>14.0</td>\n",
       "      <td>from Right to Left</td>\n",
       "      <td>Sunny</td>\n",
       "      <td>7</td>\n",
       "      <td>3.216667</td>\n",
       "      <td>regular season</td>\n",
       "      <td>1</td>\n",
       "      <td>0</td>\n",
       "      <td>Win</td>\n",
       "    </tr>\n",
       "    <tr>\n",
       "      <th>1</th>\n",
       "      <td>21621.0</td>\n",
       "      <td>Philadelphia Phillies</td>\n",
       "      <td>0</td>\n",
       "      <td>5</td>\n",
       "      <td>2</td>\n",
       "      <td>2016-04-06</td>\n",
       "      <td>on grass</td>\n",
       "      <td>Night Game</td>\n",
       "      <td>Cincinnati Reds</td>\n",
       "      <td>0</td>\n",
       "      <td>...</td>\n",
       "      <td>55.0</td>\n",
       "      <td>24.0</td>\n",
       "      <td>from Right to Left</td>\n",
       "      <td>Overcast</td>\n",
       "      <td>5</td>\n",
       "      <td>2.383333</td>\n",
       "      <td>regular season</td>\n",
       "      <td>1</td>\n",
       "      <td>0</td>\n",
       "      <td>Win</td>\n",
       "    </tr>\n",
       "    <tr>\n",
       "      <th>2</th>\n",
       "      <td>12622.0</td>\n",
       "      <td>Minnesota Twins</td>\n",
       "      <td>0</td>\n",
       "      <td>5</td>\n",
       "      <td>2</td>\n",
       "      <td>2016-04-06</td>\n",
       "      <td>on grass</td>\n",
       "      <td>Night Game</td>\n",
       "      <td>Baltimore Orioles</td>\n",
       "      <td>0</td>\n",
       "      <td>...</td>\n",
       "      <td>48.0</td>\n",
       "      <td>7.0</td>\n",
       "      <td>out to Leftfield</td>\n",
       "      <td>Unknown</td>\n",
       "      <td>6</td>\n",
       "      <td>3.183333</td>\n",
       "      <td>regular season</td>\n",
       "      <td>1</td>\n",
       "      <td>0</td>\n",
       "      <td>Win</td>\n",
       "    </tr>\n",
       "    <tr>\n",
       "      <th>3</th>\n",
       "      <td>18531.0</td>\n",
       "      <td>Washington Nationals</td>\n",
       "      <td>0</td>\n",
       "      <td>8</td>\n",
       "      <td>3</td>\n",
       "      <td>2016-04-06</td>\n",
       "      <td>on grass</td>\n",
       "      <td>Night Game</td>\n",
       "      <td>Atlanta Braves</td>\n",
       "      <td>1</td>\n",
       "      <td>...</td>\n",
       "      <td>65.0</td>\n",
       "      <td>10.0</td>\n",
       "      <td>from Right to Left</td>\n",
       "      <td>Cloudy</td>\n",
       "      <td>4</td>\n",
       "      <td>2.883333</td>\n",
       "      <td>regular season</td>\n",
       "      <td>0</td>\n",
       "      <td>1</td>\n",
       "      <td>Loss</td>\n",
       "    </tr>\n",
       "    <tr>\n",
       "      <th>4</th>\n",
       "      <td>18572.0</td>\n",
       "      <td>Colorado Rockies</td>\n",
       "      <td>1</td>\n",
       "      <td>8</td>\n",
       "      <td>4</td>\n",
       "      <td>2016-04-06</td>\n",
       "      <td>on grass</td>\n",
       "      <td>Day Game</td>\n",
       "      <td>Arizona Diamondbacks</td>\n",
       "      <td>0</td>\n",
       "      <td>...</td>\n",
       "      <td>77.0</td>\n",
       "      <td>0.0</td>\n",
       "      <td>in unknown direction</td>\n",
       "      <td>In Dome</td>\n",
       "      <td>7</td>\n",
       "      <td>2.650000</td>\n",
       "      <td>regular season</td>\n",
       "      <td>0</td>\n",
       "      <td>1</td>\n",
       "      <td>Loss</td>\n",
       "    </tr>\n",
       "  </tbody>\n",
       "</table>\n",
       "<p>5 rows × 25 columns</p>\n",
       "</div>"
      ],
      "text/plain": [
       "   attendance              away_team  away_team_errors  away_team_hits  \\\n",
       "0     40030.0          New York Mets                 1               7   \n",
       "1     21621.0  Philadelphia Phillies                 0               5   \n",
       "2     12622.0        Minnesota Twins                 0               5   \n",
       "3     18531.0   Washington Nationals                 0               8   \n",
       "4     18572.0       Colorado Rockies                 1               8   \n",
       "\n",
       "   away_team_runs        date field_type   game_type             home_team  \\\n",
       "0               3  2016-04-03   on grass  Night Game    Kansas City Royals   \n",
       "1               2  2016-04-06   on grass  Night Game       Cincinnati Reds   \n",
       "2               2  2016-04-06   on grass  Night Game     Baltimore Orioles   \n",
       "3               3  2016-04-06   on grass  Night Game        Atlanta Braves   \n",
       "4               4  2016-04-06   on grass    Day Game  Arizona Diamondbacks   \n",
       "\n",
       "   home_team_errors  ...  temperature  wind_speed         wind_direction  \\\n",
       "0                 0  ...         74.0        14.0     from Right to Left   \n",
       "1                 0  ...         55.0        24.0     from Right to Left   \n",
       "2                 0  ...         48.0         7.0       out to Leftfield   \n",
       "3                 1  ...         65.0        10.0     from Right to Left   \n",
       "4                 0  ...         77.0         0.0   in unknown direction   \n",
       "\n",
       "        sky total_runs  game_hours_dec          season home_team_win  \\\n",
       "0     Sunny          7        3.216667  regular season             1   \n",
       "1  Overcast          5        2.383333  regular season             1   \n",
       "2   Unknown          6        3.183333  regular season             1   \n",
       "3    Cloudy          4        2.883333  regular season             0   \n",
       "4   In Dome          7        2.650000  regular season             0   \n",
       "\n",
       "  home_team_loss  home_team_outcome  \n",
       "0              0                Win  \n",
       "1              0                Win  \n",
       "2              0                Win  \n",
       "3              1               Loss  \n",
       "4              1               Loss  \n",
       "\n",
       "[5 rows x 25 columns]"
      ]
     },
     "execution_count": 5,
     "metadata": {},
     "output_type": "execute_result"
    }
   ],
   "source": [
    "data.head()"
   ]
  },
  {
   "cell_type": "code",
   "execution_count": 6,
   "metadata": {},
   "outputs": [
    {
     "data": {
      "text/html": [
       "<div>\n",
       "<style scoped>\n",
       "    .dataframe tbody tr th:only-of-type {\n",
       "        vertical-align: middle;\n",
       "    }\n",
       "\n",
       "    .dataframe tbody tr th {\n",
       "        vertical-align: top;\n",
       "    }\n",
       "\n",
       "    .dataframe thead th {\n",
       "        text-align: right;\n",
       "    }\n",
       "</style>\n",
       "<table border=\"1\" class=\"dataframe\">\n",
       "  <thead>\n",
       "    <tr style=\"text-align: right;\">\n",
       "      <th></th>\n",
       "      <th>count</th>\n",
       "      <th>mean</th>\n",
       "      <th>std</th>\n",
       "      <th>min</th>\n",
       "      <th>25%</th>\n",
       "      <th>50%</th>\n",
       "      <th>75%</th>\n",
       "      <th>max</th>\n",
       "    </tr>\n",
       "  </thead>\n",
       "  <tbody>\n",
       "    <tr>\n",
       "      <th>attendance</th>\n",
       "      <td>2460.0</td>\n",
       "      <td>30370.703659</td>\n",
       "      <td>9875.466703</td>\n",
       "      <td>8766.00</td>\n",
       "      <td>22432.000000</td>\n",
       "      <td>30604.500000</td>\n",
       "      <td>38396.250000</td>\n",
       "      <td>54449.000000</td>\n",
       "    </tr>\n",
       "    <tr>\n",
       "      <th>away_team_errors</th>\n",
       "      <td>2463.0</td>\n",
       "      <td>0.580593</td>\n",
       "      <td>0.793391</td>\n",
       "      <td>0.00</td>\n",
       "      <td>0.000000</td>\n",
       "      <td>0.000000</td>\n",
       "      <td>1.000000</td>\n",
       "      <td>5.000000</td>\n",
       "    </tr>\n",
       "    <tr>\n",
       "      <th>away_team_hits</th>\n",
       "      <td>2463.0</td>\n",
       "      <td>8.764515</td>\n",
       "      <td>3.511581</td>\n",
       "      <td>1.00</td>\n",
       "      <td>6.000000</td>\n",
       "      <td>8.000000</td>\n",
       "      <td>11.000000</td>\n",
       "      <td>22.000000</td>\n",
       "    </tr>\n",
       "    <tr>\n",
       "      <th>away_team_runs</th>\n",
       "      <td>2463.0</td>\n",
       "      <td>4.413723</td>\n",
       "      <td>3.104556</td>\n",
       "      <td>0.00</td>\n",
       "      <td>2.000000</td>\n",
       "      <td>4.000000</td>\n",
       "      <td>6.000000</td>\n",
       "      <td>21.000000</td>\n",
       "    </tr>\n",
       "    <tr>\n",
       "      <th>home_team_errors</th>\n",
       "      <td>2463.0</td>\n",
       "      <td>0.585871</td>\n",
       "      <td>0.805542</td>\n",
       "      <td>0.00</td>\n",
       "      <td>0.000000</td>\n",
       "      <td>0.000000</td>\n",
       "      <td>1.000000</td>\n",
       "      <td>5.000000</td>\n",
       "    </tr>\n",
       "    <tr>\n",
       "      <th>home_team_hits</th>\n",
       "      <td>2463.0</td>\n",
       "      <td>8.611855</td>\n",
       "      <td>3.436965</td>\n",
       "      <td>0.00</td>\n",
       "      <td>6.000000</td>\n",
       "      <td>8.000000</td>\n",
       "      <td>11.000000</td>\n",
       "      <td>22.000000</td>\n",
       "    </tr>\n",
       "    <tr>\n",
       "      <th>home_team_runs</th>\n",
       "      <td>2463.0</td>\n",
       "      <td>4.519691</td>\n",
       "      <td>3.111572</td>\n",
       "      <td>0.00</td>\n",
       "      <td>2.000000</td>\n",
       "      <td>4.000000</td>\n",
       "      <td>6.000000</td>\n",
       "      <td>17.000000</td>\n",
       "    </tr>\n",
       "    <tr>\n",
       "      <th>temperature</th>\n",
       "      <td>2463.0</td>\n",
       "      <td>73.818920</td>\n",
       "      <td>10.583106</td>\n",
       "      <td>31.00</td>\n",
       "      <td>67.000000</td>\n",
       "      <td>74.000000</td>\n",
       "      <td>81.000000</td>\n",
       "      <td>101.000000</td>\n",
       "    </tr>\n",
       "    <tr>\n",
       "      <th>wind_speed</th>\n",
       "      <td>2463.0</td>\n",
       "      <td>7.494925</td>\n",
       "      <td>5.055970</td>\n",
       "      <td>0.00</td>\n",
       "      <td>4.000000</td>\n",
       "      <td>7.000000</td>\n",
       "      <td>11.000000</td>\n",
       "      <td>25.000000</td>\n",
       "    </tr>\n",
       "    <tr>\n",
       "      <th>total_runs</th>\n",
       "      <td>2463.0</td>\n",
       "      <td>8.933415</td>\n",
       "      <td>4.480352</td>\n",
       "      <td>1.00</td>\n",
       "      <td>6.000000</td>\n",
       "      <td>8.000000</td>\n",
       "      <td>12.000000</td>\n",
       "      <td>29.000000</td>\n",
       "    </tr>\n",
       "    <tr>\n",
       "      <th>game_hours_dec</th>\n",
       "      <td>2463.0</td>\n",
       "      <td>3.085302</td>\n",
       "      <td>0.460491</td>\n",
       "      <td>1.25</td>\n",
       "      <td>2.783333</td>\n",
       "      <td>3.033333</td>\n",
       "      <td>3.308333</td>\n",
       "      <td>6.216667</td>\n",
       "    </tr>\n",
       "    <tr>\n",
       "      <th>home_team_win</th>\n",
       "      <td>2463.0</td>\n",
       "      <td>0.529436</td>\n",
       "      <td>0.499234</td>\n",
       "      <td>0.00</td>\n",
       "      <td>0.000000</td>\n",
       "      <td>1.000000</td>\n",
       "      <td>1.000000</td>\n",
       "      <td>1.000000</td>\n",
       "    </tr>\n",
       "    <tr>\n",
       "      <th>home_team_loss</th>\n",
       "      <td>2463.0</td>\n",
       "      <td>0.470158</td>\n",
       "      <td>0.499210</td>\n",
       "      <td>0.00</td>\n",
       "      <td>0.000000</td>\n",
       "      <td>0.000000</td>\n",
       "      <td>1.000000</td>\n",
       "      <td>1.000000</td>\n",
       "    </tr>\n",
       "  </tbody>\n",
       "</table>\n",
       "</div>"
      ],
      "text/plain": [
       "                   count          mean          std      min           25%  \\\n",
       "attendance        2460.0  30370.703659  9875.466703  8766.00  22432.000000   \n",
       "away_team_errors  2463.0      0.580593     0.793391     0.00      0.000000   \n",
       "away_team_hits    2463.0      8.764515     3.511581     1.00      6.000000   \n",
       "away_team_runs    2463.0      4.413723     3.104556     0.00      2.000000   \n",
       "home_team_errors  2463.0      0.585871     0.805542     0.00      0.000000   \n",
       "home_team_hits    2463.0      8.611855     3.436965     0.00      6.000000   \n",
       "home_team_runs    2463.0      4.519691     3.111572     0.00      2.000000   \n",
       "temperature       2463.0     73.818920    10.583106    31.00     67.000000   \n",
       "wind_speed        2463.0      7.494925     5.055970     0.00      4.000000   \n",
       "total_runs        2463.0      8.933415     4.480352     1.00      6.000000   \n",
       "game_hours_dec    2463.0      3.085302     0.460491     1.25      2.783333   \n",
       "home_team_win     2463.0      0.529436     0.499234     0.00      0.000000   \n",
       "home_team_loss    2463.0      0.470158     0.499210     0.00      0.000000   \n",
       "\n",
       "                           50%           75%           max  \n",
       "attendance        30604.500000  38396.250000  54449.000000  \n",
       "away_team_errors      0.000000      1.000000      5.000000  \n",
       "away_team_hits        8.000000     11.000000     22.000000  \n",
       "away_team_runs        4.000000      6.000000     21.000000  \n",
       "home_team_errors      0.000000      1.000000      5.000000  \n",
       "home_team_hits        8.000000     11.000000     22.000000  \n",
       "home_team_runs        4.000000      6.000000     17.000000  \n",
       "temperature          74.000000     81.000000    101.000000  \n",
       "wind_speed            7.000000     11.000000     25.000000  \n",
       "total_runs            8.000000     12.000000     29.000000  \n",
       "game_hours_dec        3.033333      3.308333      6.216667  \n",
       "home_team_win         1.000000      1.000000      1.000000  \n",
       "home_team_loss        0.000000      1.000000      1.000000  "
      ]
     },
     "execution_count": 6,
     "metadata": {},
     "output_type": "execute_result"
    }
   ],
   "source": [
    "data.describe().T"
   ]
  },
  {
   "cell_type": "markdown",
   "metadata": {},
   "source": [
    "Обратим внимание на пропущенные значения в столбце 'attendance' (количество зрителей матча) \n",
    "заменим пустые значения столбца attendance (количество зрителей матча) на медиану \n",
    "(т.к. с пустыми значениями в данных лучше не работать)"
   ]
  },
  {
   "cell_type": "code",
   "execution_count": 8,
   "metadata": {},
   "outputs": [],
   "source": [
    "median_attendance = data['attendance'].median()\n",
    "data['attendance'] = data['attendance'].fillna(median_attendance)"
   ]
  },
  {
   "cell_type": "markdown",
   "metadata": {},
   "source": [
    "data - наш исходный датасет, сохраним отдельно data_rs - копия data, но исключительно с типом игрового сезона == 'regular season'"
   ]
  },
  {
   "cell_type": "code",
   "execution_count": 10,
   "metadata": {},
   "outputs": [
    {
     "name": "stdout",
     "output_type": "stream",
     "text": [
      "<class 'pandas.core.frame.DataFrame'>\n",
      "Index: 2428 entries, 0 to 2462\n",
      "Data columns (total 25 columns):\n",
      " #   Column             Non-Null Count  Dtype  \n",
      "---  ------             --------------  -----  \n",
      " 0   attendance         2428 non-null   float64\n",
      " 1   away_team          2428 non-null   object \n",
      " 2   away_team_errors   2428 non-null   int64  \n",
      " 3   away_team_hits     2428 non-null   int64  \n",
      " 4   away_team_runs     2428 non-null   int64  \n",
      " 5   date               2428 non-null   object \n",
      " 6   field_type         2428 non-null   object \n",
      " 7   game_type          2428 non-null   object \n",
      " 8   home_team          2428 non-null   object \n",
      " 9   home_team_errors   2428 non-null   int64  \n",
      " 10  home_team_hits     2428 non-null   int64  \n",
      " 11  home_team_runs     2428 non-null   int64  \n",
      " 12  start_time         2428 non-null   object \n",
      " 13  venue              2428 non-null   object \n",
      " 14  day_of_week        2428 non-null   object \n",
      " 15  temperature        2428 non-null   float64\n",
      " 16  wind_speed         2428 non-null   float64\n",
      " 17  wind_direction     2428 non-null   object \n",
      " 18  sky                2428 non-null   object \n",
      " 19  total_runs         2428 non-null   int64  \n",
      " 20  game_hours_dec     2428 non-null   float64\n",
      " 21  season             2428 non-null   object \n",
      " 22  home_team_win      2428 non-null   int64  \n",
      " 23  home_team_loss     2428 non-null   int64  \n",
      " 24  home_team_outcome  2428 non-null   object \n",
      "dtypes: float64(4), int64(9), object(12)\n",
      "memory usage: 493.2+ KB\n"
     ]
    }
   ],
   "source": [
    "data_rs = data[data['season'] == 'regular season']\n",
    "data_rs.info()"
   ]
  },
  {
   "cell_type": "markdown",
   "metadata": {
    "pycharm": {
     "name": "#%% md\n"
    }
   },
   "source": [
    "# 1. На какую игру пришло максимальное количество зрителей за весь сезон игр?"
   ]
  },
  {
   "cell_type": "markdown",
   "metadata": {},
   "source": [
    "столбец 'attendance' показывает количество зрителей, соответственно необходимо взять максимальное значение этого столбца из датасета с фильтром по регулярному сезону"
   ]
  },
  {
   "cell_type": "code",
   "execution_count": 13,
   "metadata": {},
   "outputs": [
    {
     "name": "stdout",
     "output_type": "stream",
     "text": [
      "Матчи с максимальным количеством зрителей за весь сезон (тип игрового сезона == 'regular season'):\n"
     ]
    },
    {
     "data": {
      "text/html": [
       "<div>\n",
       "<style scoped>\n",
       "    .dataframe tbody tr th:only-of-type {\n",
       "        vertical-align: middle;\n",
       "    }\n",
       "\n",
       "    .dataframe tbody tr th {\n",
       "        vertical-align: top;\n",
       "    }\n",
       "\n",
       "    .dataframe thead th {\n",
       "        text-align: right;\n",
       "    }\n",
       "</style>\n",
       "<table border=\"1\" class=\"dataframe\">\n",
       "  <thead>\n",
       "    <tr style=\"text-align: right;\">\n",
       "      <th></th>\n",
       "      <th>home_team</th>\n",
       "      <th>away_team</th>\n",
       "      <th>venue</th>\n",
       "      <th>date</th>\n",
       "      <th>attendance</th>\n",
       "    </tr>\n",
       "  </thead>\n",
       "  <tbody>\n",
       "    <tr>\n",
       "      <th>534</th>\n",
       "      <td>Los Angeles Dodgers</td>\n",
       "      <td>San Francisco Giants</td>\n",
       "      <td>Dodger Stadium</td>\n",
       "      <td>2016-09-20</td>\n",
       "      <td>53621.0</td>\n",
       "    </tr>\n",
       "  </tbody>\n",
       "</table>\n",
       "</div>"
      ],
      "text/plain": [
       "               home_team             away_team           venue        date  \\\n",
       "534  Los Angeles Dodgers  San Francisco Giants  Dodger Stadium  2016-09-20   \n",
       "\n",
       "     attendance  \n",
       "534     53621.0  "
      ]
     },
     "execution_count": 13,
     "metadata": {},
     "output_type": "execute_result"
    }
   ],
   "source": [
    "print(\"Матчи с максимальным количеством зрителей за весь сезон (тип игрового сезона == 'regular season'):\")\n",
    "data_rs[data_rs['attendance'] == max(data_rs['attendance'])][['home_team', 'away_team', 'venue', 'date', 'attendance']]"
   ]
  },
  {
   "cell_type": "markdown",
   "metadata": {
    "pycharm": {
     "name": "#%% md\n"
    }
   },
   "source": [
    "# 2. Какая игра была самая холодная (temperature) за весь сезон?"
   ]
  },
  {
   "cell_type": "markdown",
   "metadata": {},
   "source": [
    "столбец 'temperature' показывает  температуру воздуха в день проведения матча в фаренгейтах, соответственно необходимо взять минимальное значение этого столбца из датасета с фильтром по регулярному сезону"
   ]
  },
  {
   "cell_type": "code",
   "execution_count": 16,
   "metadata": {},
   "outputs": [
    {
     "name": "stdout",
     "output_type": "stream",
     "text": [
      "Матчи с самой холодной температурой за весь сезон (тип игрового сезона == 'regular season'):\n"
     ]
    },
    {
     "data": {
      "text/html": [
       "<div>\n",
       "<style scoped>\n",
       "    .dataframe tbody tr th:only-of-type {\n",
       "        vertical-align: middle;\n",
       "    }\n",
       "\n",
       "    .dataframe tbody tr th {\n",
       "        vertical-align: top;\n",
       "    }\n",
       "\n",
       "    .dataframe thead th {\n",
       "        text-align: right;\n",
       "    }\n",
       "</style>\n",
       "<table border=\"1\" class=\"dataframe\">\n",
       "  <thead>\n",
       "    <tr style=\"text-align: right;\">\n",
       "      <th></th>\n",
       "      <th>home_team</th>\n",
       "      <th>away_team</th>\n",
       "      <th>venue</th>\n",
       "      <th>date</th>\n",
       "      <th>temperature</th>\n",
       "    </tr>\n",
       "  </thead>\n",
       "  <tbody>\n",
       "    <tr>\n",
       "      <th>2409</th>\n",
       "      <td>Detroit Tigers</td>\n",
       "      <td>New York Yankees</td>\n",
       "      <td>Comerica Park</td>\n",
       "      <td>2016-04-09</td>\n",
       "      <td>31.0</td>\n",
       "    </tr>\n",
       "  </tbody>\n",
       "</table>\n",
       "</div>"
      ],
      "text/plain": [
       "           home_team         away_team          venue        date  temperature\n",
       "2409  Detroit Tigers  New York Yankees  Comerica Park  2016-04-09         31.0"
      ]
     },
     "execution_count": 16,
     "metadata": {},
     "output_type": "execute_result"
    }
   ],
   "source": [
    "print(\"Матчи с самой холодной температурой за весь сезон (тип игрового сезона == 'regular season'):\")\n",
    "data_rs[data_rs['temperature'] == min(data_rs['temperature'])][['home_team', 'away_team', 'venue', 'date', 'temperature']]"
   ]
  },
  {
   "cell_type": "markdown",
   "metadata": {
    "pycharm": {
     "name": "#%% md\n"
    }
   },
   "source": [
    "# 3. Какая игра была самая теплая за весь сезон?"
   ]
  },
  {
   "cell_type": "markdown",
   "metadata": {},
   "source": [
    "столбец 'temperature' показывает  температура воздуха в день проведения матча в фаренгейтах, соответственно необходимо взять максимальное значение этого столбца из датасета с фильтром по регулярному сезону"
   ]
  },
  {
   "cell_type": "code",
   "execution_count": 19,
   "metadata": {},
   "outputs": [
    {
     "name": "stdout",
     "output_type": "stream",
     "text": [
      "Матчи с самой теплой температурой за весь сезон (тип игрового сезона == 'regular season'):\n"
     ]
    },
    {
     "data": {
      "text/html": [
       "<div>\n",
       "<style scoped>\n",
       "    .dataframe tbody tr th:only-of-type {\n",
       "        vertical-align: middle;\n",
       "    }\n",
       "\n",
       "    .dataframe tbody tr th {\n",
       "        vertical-align: top;\n",
       "    }\n",
       "\n",
       "    .dataframe thead th {\n",
       "        text-align: right;\n",
       "    }\n",
       "</style>\n",
       "<table border=\"1\" class=\"dataframe\">\n",
       "  <thead>\n",
       "    <tr style=\"text-align: right;\">\n",
       "      <th></th>\n",
       "      <th>home_team</th>\n",
       "      <th>away_team</th>\n",
       "      <th>venue</th>\n",
       "      <th>date</th>\n",
       "      <th>temperature</th>\n",
       "    </tr>\n",
       "  </thead>\n",
       "  <tbody>\n",
       "    <tr>\n",
       "      <th>2026</th>\n",
       "      <td>Arizona Diamondbacks</td>\n",
       "      <td>San Francisco Giants</td>\n",
       "      <td>Chase Field</td>\n",
       "      <td>2016-05-13</td>\n",
       "      <td>101.0</td>\n",
       "    </tr>\n",
       "  </tbody>\n",
       "</table>\n",
       "</div>"
      ],
      "text/plain": [
       "                 home_team             away_team        venue        date  \\\n",
       "2026  Arizona Diamondbacks  San Francisco Giants  Chase Field  2016-05-13   \n",
       "\n",
       "      temperature  \n",
       "2026        101.0  "
      ]
     },
     "execution_count": 19,
     "metadata": {},
     "output_type": "execute_result"
    }
   ],
   "source": [
    "print(\"Матчи с самой теплой температурой за весь сезон (тип игрового сезона == 'regular season'):\")\n",
    "data_rs[data_rs['temperature'] == max(data_rs['temperature'])][['home_team', 'away_team', 'venue', 'date', 'temperature']]"
   ]
  },
  {
   "cell_type": "markdown",
   "metadata": {
    "pycharm": {
     "name": "#%% md\n"
    }
   },
   "source": [
    "# 4. Какая игра в сезоне была самая долгая по продолжительности матча?"
   ]
  },
  {
   "cell_type": "markdown",
   "metadata": {},
   "source": [
    "столбец 'game_hours_dec' показывает  длительность матча, указанную в часах, соответственно необходимо взять максимальное значение этого столбца из датасета с фильтром по регулярному сезону"
   ]
  },
  {
   "cell_type": "code",
   "execution_count": 22,
   "metadata": {},
   "outputs": [
    {
     "name": "stdout",
     "output_type": "stream",
     "text": [
      "Матчи с самой долгой продолжительностью за весь сезон (тип игрового сезона == 'regular season'):\n"
     ]
    },
    {
     "data": {
      "text/html": [
       "<div>\n",
       "<style scoped>\n",
       "    .dataframe tbody tr th:only-of-type {\n",
       "        vertical-align: middle;\n",
       "    }\n",
       "\n",
       "    .dataframe tbody tr th {\n",
       "        vertical-align: top;\n",
       "    }\n",
       "\n",
       "    .dataframe thead th {\n",
       "        text-align: right;\n",
       "    }\n",
       "</style>\n",
       "<table border=\"1\" class=\"dataframe\">\n",
       "  <thead>\n",
       "    <tr style=\"text-align: right;\">\n",
       "      <th></th>\n",
       "      <th>home_team</th>\n",
       "      <th>away_team</th>\n",
       "      <th>venue</th>\n",
       "      <th>date</th>\n",
       "      <th>game_hours_dec</th>\n",
       "    </tr>\n",
       "  </thead>\n",
       "  <tbody>\n",
       "    <tr>\n",
       "      <th>1445</th>\n",
       "      <td>Toronto Blue Jays</td>\n",
       "      <td>Cleveland Indians</td>\n",
       "      <td>Rogers Centre</td>\n",
       "      <td>2016-07-01</td>\n",
       "      <td>6.216667</td>\n",
       "    </tr>\n",
       "  </tbody>\n",
       "</table>\n",
       "</div>"
      ],
      "text/plain": [
       "              home_team          away_team          venue        date  \\\n",
       "1445  Toronto Blue Jays  Cleveland Indians  Rogers Centre  2016-07-01   \n",
       "\n",
       "      game_hours_dec  \n",
       "1445        6.216667  "
      ]
     },
     "execution_count": 22,
     "metadata": {},
     "output_type": "execute_result"
    }
   ],
   "source": [
    "print(\"Матчи с самой долгой продолжительностью за весь сезон (тип игрового сезона == 'regular season'):\")\n",
    "data_rs[data_rs['game_hours_dec'] == max(data_rs['game_hours_dec'])][['home_team', 'away_team', 'venue', 'date', 'game_hours_dec']]"
   ]
  },
  {
   "cell_type": "markdown",
   "metadata": {
    "pycharm": {
     "name": "#%% md\n"
    }
   },
   "source": [
    "# 5. Какая игра в сезоне была самая короткая по продолжительности матча?"
   ]
  },
  {
   "cell_type": "markdown",
   "metadata": {},
   "source": [
    "столбец 'game_hours_dec' показывает длительность матча указанную в часах, соответственно необходимо взять минимальное значение этого столбца из датасета с фильтром по регулярному сезону"
   ]
  },
  {
   "cell_type": "code",
   "execution_count": 25,
   "metadata": {},
   "outputs": [
    {
     "name": "stdout",
     "output_type": "stream",
     "text": [
      "Матчи с самой короткой продолжительностью за весь сезон (тип игрового сезона == 'regular season'):\n"
     ]
    },
    {
     "data": {
      "text/html": [
       "<div>\n",
       "<style scoped>\n",
       "    .dataframe tbody tr th:only-of-type {\n",
       "        vertical-align: middle;\n",
       "    }\n",
       "\n",
       "    .dataframe tbody tr th {\n",
       "        vertical-align: top;\n",
       "    }\n",
       "\n",
       "    .dataframe thead th {\n",
       "        text-align: right;\n",
       "    }\n",
       "</style>\n",
       "<table border=\"1\" class=\"dataframe\">\n",
       "  <thead>\n",
       "    <tr style=\"text-align: right;\">\n",
       "      <th></th>\n",
       "      <th>home_team</th>\n",
       "      <th>away_team</th>\n",
       "      <th>venue</th>\n",
       "      <th>date</th>\n",
       "      <th>game_hours_dec</th>\n",
       "    </tr>\n",
       "  </thead>\n",
       "  <tbody>\n",
       "    <tr>\n",
       "      <th>423</th>\n",
       "      <td>Pittsburgh Pirates</td>\n",
       "      <td>Chicago Cubs</td>\n",
       "      <td>PNC Park</td>\n",
       "      <td>2016-09-29</td>\n",
       "      <td>1.25</td>\n",
       "    </tr>\n",
       "  </tbody>\n",
       "</table>\n",
       "</div>"
      ],
      "text/plain": [
       "              home_team     away_team     venue        date  game_hours_dec\n",
       "423  Pittsburgh Pirates  Chicago Cubs  PNC Park  2016-09-29            1.25"
      ]
     },
     "execution_count": 25,
     "metadata": {},
     "output_type": "execute_result"
    }
   ],
   "source": [
    "print(\"Матчи с самой короткой продолжительностью за весь сезон (тип игрового сезона == 'regular season'):\")\n",
    "data_rs[data_rs['game_hours_dec'] == min(data_rs['game_hours_dec'])][['home_team', 'away_team', 'venue', 'date', 'game_hours_dec']]"
   ]
  },
  {
   "cell_type": "markdown",
   "metadata": {
    "pycharm": {
     "name": "#%% md\n"
    }
   },
   "source": [
    "# 6. Сколько матчей в сезоне закончилось ничьей?"
   ]
  },
  {
   "cell_type": "markdown",
   "metadata": {},
   "source": [
    "столбец 'home_team_win' показывает 1 в случае победы домашней команды, а столбец 'home_team_loss' показывает 1 в случае победы гостевой команды, т.о. чтобы определить матчи, в которых была ничья необходимо чтобы обе команды одновременно не выиграли или не проиграли (из датасета с фильтром по регулярному сезону)"
   ]
  },
  {
   "cell_type": "code",
   "execution_count": 28,
   "metadata": {
    "pycharm": {
     "name": "#%%\n"
    }
   },
   "outputs": [
    {
     "name": "stdout",
     "output_type": "stream",
     "text": [
      "Количество матчей в сезоне (тип игрового сезона == 'regular season'), закончившихся ничьей:\n"
     ]
    },
    {
     "data": {
      "text/plain": [
       "1"
      ]
     },
     "execution_count": 28,
     "metadata": {},
     "output_type": "execute_result"
    }
   ],
   "source": [
    "print(\"Количество матчей в сезоне (тип игрового сезона == 'regular season'), закончившихся ничьей:\")\n",
    "data_rs[data_rs['home_team_win'] == data_rs['home_team_loss']].shape[0]"
   ]
  },
  {
   "cell_type": "markdown",
   "metadata": {
    "pycharm": {
     "name": "#%% md\n"
    }
   },
   "source": [
    "# 7. Какая игра была последней в сезоне?"
   ]
  },
  {
   "cell_type": "markdown",
   "metadata": {},
   "source": [
    "столбец 'date' показывает дату проведения матча, соответственно необходимо взять максимальное значение этого столбца из датасета с фильтром по регулярному сезону"
   ]
  },
  {
   "cell_type": "code",
   "execution_count": 31,
   "metadata": {},
   "outputs": [
    {
     "name": "stdout",
     "output_type": "stream",
     "text": [
      "Последняя игра в сезоне (тип игрового сезона == 'regular season'):\n"
     ]
    },
    {
     "data": {
      "text/html": [
       "<div>\n",
       "<style scoped>\n",
       "    .dataframe tbody tr th:only-of-type {\n",
       "        vertical-align: middle;\n",
       "    }\n",
       "\n",
       "    .dataframe tbody tr th {\n",
       "        vertical-align: top;\n",
       "    }\n",
       "\n",
       "    .dataframe thead th {\n",
       "        text-align: right;\n",
       "    }\n",
       "</style>\n",
       "<table border=\"1\" class=\"dataframe\">\n",
       "  <thead>\n",
       "    <tr style=\"text-align: right;\">\n",
       "      <th></th>\n",
       "      <th>home_team</th>\n",
       "      <th>away_team</th>\n",
       "      <th>venue</th>\n",
       "      <th>date</th>\n",
       "    </tr>\n",
       "  </thead>\n",
       "  <tbody>\n",
       "    <tr>\n",
       "      <th>349</th>\n",
       "      <td>Washington Nationals</td>\n",
       "      <td>Miami Marlins</td>\n",
       "      <td>Nationals Park</td>\n",
       "      <td>2016-10-02</td>\n",
       "    </tr>\n",
       "    <tr>\n",
       "      <th>385</th>\n",
       "      <td>Texas Rangers</td>\n",
       "      <td>Tampa Bay Rays</td>\n",
       "      <td>Globe Life Park in Arlington</td>\n",
       "      <td>2016-10-02</td>\n",
       "    </tr>\n",
       "    <tr>\n",
       "      <th>386</th>\n",
       "      <td>St. Louis Cardinals</td>\n",
       "      <td>Pittsburgh Pirates</td>\n",
       "      <td>Busch Stadium III</td>\n",
       "      <td>2016-10-02</td>\n",
       "    </tr>\n",
       "    <tr>\n",
       "      <th>387</th>\n",
       "      <td>San Francisco Giants</td>\n",
       "      <td>Los Angeles Dodgers</td>\n",
       "      <td>AT&amp;T Park</td>\n",
       "      <td>2016-10-02</td>\n",
       "    </tr>\n",
       "    <tr>\n",
       "      <th>388</th>\n",
       "      <td>Seattle Mariners</td>\n",
       "      <td>Oakland Athletics</td>\n",
       "      <td>Safeco Field</td>\n",
       "      <td>2016-10-02</td>\n",
       "    </tr>\n",
       "    <tr>\n",
       "      <th>389</th>\n",
       "      <td>Philadelphia Phillies</td>\n",
       "      <td>New York Mets</td>\n",
       "      <td>Citizens Bank Park</td>\n",
       "      <td>2016-10-02</td>\n",
       "    </tr>\n",
       "    <tr>\n",
       "      <th>390</th>\n",
       "      <td>New York Yankees</td>\n",
       "      <td>Baltimore Orioles</td>\n",
       "      <td>Yankee Stadium III</td>\n",
       "      <td>2016-10-02</td>\n",
       "    </tr>\n",
       "    <tr>\n",
       "      <th>391</th>\n",
       "      <td>Kansas City Royals</td>\n",
       "      <td>Cleveland Indians</td>\n",
       "      <td>Kauffman Stadium</td>\n",
       "      <td>2016-10-02</td>\n",
       "    </tr>\n",
       "    <tr>\n",
       "      <th>392</th>\n",
       "      <td>Colorado Rockies</td>\n",
       "      <td>Milwaukee Brewers</td>\n",
       "      <td>Coors Field</td>\n",
       "      <td>2016-10-02</td>\n",
       "    </tr>\n",
       "    <tr>\n",
       "      <th>393</th>\n",
       "      <td>Cincinnati Reds</td>\n",
       "      <td>Chicago Cubs</td>\n",
       "      <td>Great American Ball Park</td>\n",
       "      <td>2016-10-02</td>\n",
       "    </tr>\n",
       "    <tr>\n",
       "      <th>394</th>\n",
       "      <td>Chicago White Sox</td>\n",
       "      <td>Minnesota Twins</td>\n",
       "      <td>U.S. Cellular Field</td>\n",
       "      <td>2016-10-02</td>\n",
       "    </tr>\n",
       "    <tr>\n",
       "      <th>395</th>\n",
       "      <td>Boston Red Sox</td>\n",
       "      <td>Toronto Blue Jays</td>\n",
       "      <td>Fenway Park</td>\n",
       "      <td>2016-10-02</td>\n",
       "    </tr>\n",
       "    <tr>\n",
       "      <th>396</th>\n",
       "      <td>Atlanta Braves</td>\n",
       "      <td>Detroit Tigers</td>\n",
       "      <td>Turner Field</td>\n",
       "      <td>2016-10-02</td>\n",
       "    </tr>\n",
       "    <tr>\n",
       "      <th>397</th>\n",
       "      <td>Arizona Diamondbacks</td>\n",
       "      <td>San Diego Padres</td>\n",
       "      <td>Chase Field</td>\n",
       "      <td>2016-10-02</td>\n",
       "    </tr>\n",
       "    <tr>\n",
       "      <th>398</th>\n",
       "      <td>Los Angeles Angels of Anaheim</td>\n",
       "      <td>Houston Astros</td>\n",
       "      <td>Angel Stadium of Anaheim</td>\n",
       "      <td>2016-10-02</td>\n",
       "    </tr>\n",
       "  </tbody>\n",
       "</table>\n",
       "</div>"
      ],
      "text/plain": [
       "                         home_team            away_team  \\\n",
       "349           Washington Nationals        Miami Marlins   \n",
       "385                  Texas Rangers       Tampa Bay Rays   \n",
       "386            St. Louis Cardinals   Pittsburgh Pirates   \n",
       "387           San Francisco Giants  Los Angeles Dodgers   \n",
       "388               Seattle Mariners    Oakland Athletics   \n",
       "389          Philadelphia Phillies        New York Mets   \n",
       "390               New York Yankees    Baltimore Orioles   \n",
       "391             Kansas City Royals    Cleveland Indians   \n",
       "392               Colorado Rockies    Milwaukee Brewers   \n",
       "393                Cincinnati Reds         Chicago Cubs   \n",
       "394              Chicago White Sox      Minnesota Twins   \n",
       "395                 Boston Red Sox    Toronto Blue Jays   \n",
       "396                 Atlanta Braves       Detroit Tigers   \n",
       "397           Arizona Diamondbacks     San Diego Padres   \n",
       "398  Los Angeles Angels of Anaheim       Houston Astros   \n",
       "\n",
       "                            venue        date  \n",
       "349                Nationals Park  2016-10-02  \n",
       "385  Globe Life Park in Arlington  2016-10-02  \n",
       "386             Busch Stadium III  2016-10-02  \n",
       "387                     AT&T Park  2016-10-02  \n",
       "388                  Safeco Field  2016-10-02  \n",
       "389            Citizens Bank Park  2016-10-02  \n",
       "390            Yankee Stadium III  2016-10-02  \n",
       "391              Kauffman Stadium  2016-10-02  \n",
       "392                   Coors Field  2016-10-02  \n",
       "393      Great American Ball Park  2016-10-02  \n",
       "394           U.S. Cellular Field  2016-10-02  \n",
       "395                   Fenway Park  2016-10-02  \n",
       "396                  Turner Field  2016-10-02  \n",
       "397                   Chase Field  2016-10-02  \n",
       "398      Angel Stadium of Anaheim  2016-10-02  "
      ]
     },
     "execution_count": 31,
     "metadata": {},
     "output_type": "execute_result"
    }
   ],
   "source": [
    "print(\"Последняя игра в сезоне (тип игрового сезона == 'regular season'):\")\n",
    "data_rs[data_rs['date'] == max(data_rs['date'])][['home_team', 'away_team', 'venue', 'date']]"
   ]
  },
  {
   "cell_type": "markdown",
   "metadata": {
    "pycharm": {
     "name": "#%% md\n"
    }
   },
   "source": [
    "# 8. У какой игры было минимальное количество зрителей?"
   ]
  },
  {
   "cell_type": "markdown",
   "metadata": {},
   "source": [
    "столбец 'attendance' показывает количество зрителей, соответственно необходимо взять минимальное значение этого столбца из датасета (первоначального, без фильтра по сезону)"
   ]
  },
  {
   "cell_type": "code",
   "execution_count": 34,
   "metadata": {},
   "outputs": [
    {
     "name": "stdout",
     "output_type": "stream",
     "text": [
      "Матчи с минимальным количеством зрителей (не важно какой сезон):\n"
     ]
    },
    {
     "data": {
      "text/html": [
       "<div>\n",
       "<style scoped>\n",
       "    .dataframe tbody tr th:only-of-type {\n",
       "        vertical-align: middle;\n",
       "    }\n",
       "\n",
       "    .dataframe tbody tr th {\n",
       "        vertical-align: top;\n",
       "    }\n",
       "\n",
       "    .dataframe thead th {\n",
       "        text-align: right;\n",
       "    }\n",
       "</style>\n",
       "<table border=\"1\" class=\"dataframe\">\n",
       "  <thead>\n",
       "    <tr style=\"text-align: right;\">\n",
       "      <th></th>\n",
       "      <th>home_team</th>\n",
       "      <th>away_team</th>\n",
       "      <th>venue</th>\n",
       "      <th>date</th>\n",
       "      <th>attendance</th>\n",
       "    </tr>\n",
       "  </thead>\n",
       "  <tbody>\n",
       "    <tr>\n",
       "      <th>2130</th>\n",
       "      <td>Cleveland Indians</td>\n",
       "      <td>Detroit Tigers</td>\n",
       "      <td>Progressive Field</td>\n",
       "      <td>2016-05-04</td>\n",
       "      <td>8766.0</td>\n",
       "    </tr>\n",
       "  </tbody>\n",
       "</table>\n",
       "</div>"
      ],
      "text/plain": [
       "              home_team       away_team              venue        date  \\\n",
       "2130  Cleveland Indians  Detroit Tigers  Progressive Field  2016-05-04   \n",
       "\n",
       "      attendance  \n",
       "2130      8766.0  "
      ]
     },
     "execution_count": 34,
     "metadata": {},
     "output_type": "execute_result"
    }
   ],
   "source": [
    "print(\"Матчи с минимальным количеством зрителей (не важно какой сезон):\")\n",
    "data[data['attendance'] == min(data['attendance'])][['home_team', 'away_team', 'venue', 'date', 'attendance']]"
   ]
  },
  {
   "cell_type": "markdown",
   "metadata": {
    "pycharm": {
     "name": "#%% md\n"
    }
   },
   "source": [
    "# 9. Какая игра в сезоне была самая ветренная?"
   ]
  },
  {
   "cell_type": "markdown",
   "metadata": {},
   "source": [
    "столбец 'wind_speed' показывает скорость ветра в день проведения матча, соответственно необходимо взять максимальное значение этого столбца из датасета с фильтром по регулярному сезону"
   ]
  },
  {
   "cell_type": "code",
   "execution_count": 37,
   "metadata": {},
   "outputs": [
    {
     "name": "stdout",
     "output_type": "stream",
     "text": [
      "Матчи с максимальной скоростью ветра за весь сезон (тип игрового сезона == 'regular season'):\n"
     ]
    },
    {
     "data": {
      "text/html": [
       "<div>\n",
       "<style scoped>\n",
       "    .dataframe tbody tr th:only-of-type {\n",
       "        vertical-align: middle;\n",
       "    }\n",
       "\n",
       "    .dataframe tbody tr th {\n",
       "        vertical-align: top;\n",
       "    }\n",
       "\n",
       "    .dataframe thead th {\n",
       "        text-align: right;\n",
       "    }\n",
       "</style>\n",
       "<table border=\"1\" class=\"dataframe\">\n",
       "  <thead>\n",
       "    <tr style=\"text-align: right;\">\n",
       "      <th></th>\n",
       "      <th>home_team</th>\n",
       "      <th>away_team</th>\n",
       "      <th>venue</th>\n",
       "      <th>date</th>\n",
       "      <th>wind_speed</th>\n",
       "    </tr>\n",
       "  </thead>\n",
       "  <tbody>\n",
       "    <tr>\n",
       "      <th>1655</th>\n",
       "      <td>San Francisco Giants</td>\n",
       "      <td>Milwaukee Brewers</td>\n",
       "      <td>AT&amp;T Park</td>\n",
       "      <td>2016-06-13</td>\n",
       "      <td>25.0</td>\n",
       "    </tr>\n",
       "    <tr>\n",
       "      <th>2005</th>\n",
       "      <td>Boston Red Sox</td>\n",
       "      <td>Houston Astros</td>\n",
       "      <td>Fenway Park</td>\n",
       "      <td>2016-05-15</td>\n",
       "      <td>25.0</td>\n",
       "    </tr>\n",
       "  </tbody>\n",
       "</table>\n",
       "</div>"
      ],
      "text/plain": [
       "                 home_team          away_team        venue        date  \\\n",
       "1655  San Francisco Giants  Milwaukee Brewers    AT&T Park  2016-06-13   \n",
       "2005        Boston Red Sox     Houston Astros  Fenway Park  2016-05-15   \n",
       "\n",
       "      wind_speed  \n",
       "1655        25.0  \n",
       "2005        25.0  "
      ]
     },
     "execution_count": 37,
     "metadata": {},
     "output_type": "execute_result"
    }
   ],
   "source": [
    "print(\"Матчи с максимальной скоростью ветра за весь сезон (тип игрового сезона == 'regular season'):\")\n",
    "data_rs[data_rs['wind_speed'] == max(data_rs['wind_speed'])][['home_team', 'away_team', 'venue', 'date', 'wind_speed']]"
   ]
  },
  {
   "cell_type": "markdown",
   "metadata": {
    "pycharm": {
     "name": "#%% md\n"
    }
   },
   "source": [
    "# 10. В какой игре получили максимальное количество очков?"
   ]
  },
  {
   "cell_type": "markdown",
   "metadata": {},
   "source": [
    "столбец 'total_runs' показывает общее количество ранов для двух команд, соответственно необходимо взять максимальное значение этого столбца из датасета (первоначального, без фильтра по сезону)"
   ]
  },
  {
   "cell_type": "code",
   "execution_count": 40,
   "metadata": {},
   "outputs": [
    {
     "name": "stdout",
     "output_type": "stream",
     "text": [
      "Игры с максимальным количеством очков (ранов) (не важно какой сезон):\n"
     ]
    },
    {
     "data": {
      "text/html": [
       "<div>\n",
       "<style scoped>\n",
       "    .dataframe tbody tr th:only-of-type {\n",
       "        vertical-align: middle;\n",
       "    }\n",
       "\n",
       "    .dataframe tbody tr th {\n",
       "        vertical-align: top;\n",
       "    }\n",
       "\n",
       "    .dataframe thead th {\n",
       "        text-align: right;\n",
       "    }\n",
       "</style>\n",
       "<table border=\"1\" class=\"dataframe\">\n",
       "  <thead>\n",
       "    <tr style=\"text-align: right;\">\n",
       "      <th></th>\n",
       "      <th>home_team</th>\n",
       "      <th>away_team</th>\n",
       "      <th>venue</th>\n",
       "      <th>date</th>\n",
       "      <th>total_runs</th>\n",
       "    </tr>\n",
       "  </thead>\n",
       "  <tbody>\n",
       "    <tr>\n",
       "      <th>1788</th>\n",
       "      <td>San Diego Padres</td>\n",
       "      <td>Seattle Mariners</td>\n",
       "      <td>Petco Park</td>\n",
       "      <td>2016-06-02</td>\n",
       "      <td>29</td>\n",
       "    </tr>\n",
       "  </tbody>\n",
       "</table>\n",
       "</div>"
      ],
      "text/plain": [
       "             home_team         away_team       venue        date  total_runs\n",
       "1788  San Diego Padres  Seattle Mariners  Petco Park  2016-06-02          29"
      ]
     },
     "execution_count": 40,
     "metadata": {},
     "output_type": "execute_result"
    }
   ],
   "source": [
    "print(\"Игры с максимальным количеством очков (ранов) (не важно какой сезон):\")\n",
    "data[data['total_runs'] == max(data['total_runs'])][['home_team', 'away_team', 'venue', 'date', 'total_runs']]"
   ]
  },
  {
   "cell_type": "markdown",
   "metadata": {
    "pycharm": {
     "name": "#%% md\n"
    }
   },
   "source": [
    "# 11. Какая игра содержала максимальное количество ошибок домашней команды?"
   ]
  },
  {
   "cell_type": "markdown",
   "metadata": {},
   "source": [
    "столбец 'home_team_errors' показывает количество ошибок домашней команды, соответственно необходимо взять максимальное значение этого столбца из датасета (первоначального, без фильтра по сезону)"
   ]
  },
  {
   "cell_type": "code",
   "execution_count": 43,
   "metadata": {},
   "outputs": [
    {
     "name": "stdout",
     "output_type": "stream",
     "text": [
      "Матчи с максимальным количеством ошибок домашней команды (не важно какой сезон):\n"
     ]
    },
    {
     "data": {
      "text/html": [
       "<div>\n",
       "<style scoped>\n",
       "    .dataframe tbody tr th:only-of-type {\n",
       "        vertical-align: middle;\n",
       "    }\n",
       "\n",
       "    .dataframe tbody tr th {\n",
       "        vertical-align: top;\n",
       "    }\n",
       "\n",
       "    .dataframe thead th {\n",
       "        text-align: right;\n",
       "    }\n",
       "</style>\n",
       "<table border=\"1\" class=\"dataframe\">\n",
       "  <thead>\n",
       "    <tr style=\"text-align: right;\">\n",
       "      <th></th>\n",
       "      <th>home_team</th>\n",
       "      <th>away_team</th>\n",
       "      <th>venue</th>\n",
       "      <th>date</th>\n",
       "      <th>home_team_errors</th>\n",
       "    </tr>\n",
       "  </thead>\n",
       "  <tbody>\n",
       "    <tr>\n",
       "      <th>1178</th>\n",
       "      <td>Milwaukee Brewers</td>\n",
       "      <td>Arizona Diamondbacks</td>\n",
       "      <td>Miller Park</td>\n",
       "      <td>2016-07-27</td>\n",
       "      <td>5</td>\n",
       "    </tr>\n",
       "  </tbody>\n",
       "</table>\n",
       "</div>"
      ],
      "text/plain": [
       "              home_team             away_team        venue        date  \\\n",
       "1178  Milwaukee Brewers  Arizona Diamondbacks  Miller Park  2016-07-27   \n",
       "\n",
       "      home_team_errors  \n",
       "1178                 5  "
      ]
     },
     "execution_count": 43,
     "metadata": {},
     "output_type": "execute_result"
    }
   ],
   "source": [
    "print(\"Матчи с максимальным количеством ошибок домашней команды (не важно какой сезон):\")\n",
    "data[data['home_team_errors'] == max(data['home_team_errors'])][['home_team', 'away_team', 'venue', 'date', 'home_team_errors']]"
   ]
  },
  {
   "cell_type": "markdown",
   "metadata": {
    "pycharm": {
     "name": "#%% md\n"
    }
   },
   "source": [
    "# 12. В какой игре было максимальное количество хитов? (исправила - было ранов)"
   ]
  },
  {
   "cell_type": "markdown",
   "metadata": {},
   "source": [
    "столбцы 'away_team_hits' и 'home_team_hits' показывают количество хитов домашней и гостевой команды, нам необходимо сложить эти два столбца, чтобы получить общее количество хитов в игре ('total_hits') и далее необходимо взять максимальное значение этого столбца ('total_hits') из датасета (первоначального, без фильтра по сезону)"
   ]
  },
  {
   "cell_type": "code",
   "execution_count": 46,
   "metadata": {},
   "outputs": [
    {
     "name": "stdout",
     "output_type": "stream",
     "text": [
      "Игры с максимальным количеством хитов (не важно какой сезон):\n"
     ]
    },
    {
     "data": {
      "text/html": [
       "<div>\n",
       "<style scoped>\n",
       "    .dataframe tbody tr th:only-of-type {\n",
       "        vertical-align: middle;\n",
       "    }\n",
       "\n",
       "    .dataframe tbody tr th {\n",
       "        vertical-align: top;\n",
       "    }\n",
       "\n",
       "    .dataframe thead th {\n",
       "        text-align: right;\n",
       "    }\n",
       "</style>\n",
       "<table border=\"1\" class=\"dataframe\">\n",
       "  <thead>\n",
       "    <tr style=\"text-align: right;\">\n",
       "      <th></th>\n",
       "      <th>home_team</th>\n",
       "      <th>away_team</th>\n",
       "      <th>venue</th>\n",
       "      <th>date</th>\n",
       "      <th>away_team_hits</th>\n",
       "      <th>home_team_hits</th>\n",
       "      <th>total_hits</th>\n",
       "    </tr>\n",
       "  </thead>\n",
       "  <tbody>\n",
       "    <tr>\n",
       "      <th>1413</th>\n",
       "      <td>Boston Red Sox</td>\n",
       "      <td>Texas Rangers</td>\n",
       "      <td>Fenway Park</td>\n",
       "      <td>2016-07-04</td>\n",
       "      <td>16</td>\n",
       "      <td>21</td>\n",
       "      <td>37</td>\n",
       "    </tr>\n",
       "  </tbody>\n",
       "</table>\n",
       "</div>"
      ],
      "text/plain": [
       "           home_team      away_team        venue        date  away_team_hits  \\\n",
       "1413  Boston Red Sox  Texas Rangers  Fenway Park  2016-07-04              16   \n",
       "\n",
       "      home_team_hits  total_hits  \n",
       "1413              21          37  "
      ]
     },
     "execution_count": 46,
     "metadata": {},
     "output_type": "execute_result"
    }
   ],
   "source": [
    "print(\"Игры с максимальным количеством хитов (не важно какой сезон):\")\n",
    "data['total_hits'] = data[['away_team_hits', 'home_team_hits']].sum(axis=1)\n",
    "data[data['total_hits'] == max(data['total_hits'])][['home_team', 'away_team', 'venue', 'date','away_team_hits', 'home_team_hits', 'total_hits']]"
   ]
  },
  {
   "cell_type": "markdown",
   "metadata": {
    "pycharm": {
     "name": "#%% md\n"
    }
   },
   "source": [
    "# 13. Выведите количество игр которая сыграла каждая команда в данном сезоне?"
   ]
  },
  {
   "cell_type": "markdown",
   "metadata": {},
   "source": [
    "для решения этой задачи, мы можем создать два отдельных DataFrame, которые будут содержать информацию о количестве сыгранных игр для каждой команды, когда она была домашней и гостевой командой (из датасета с фильтром по регулярному сезону). Затем мы объединим эти два DataFrame и сгруппируем по названию команды, используя агрегирующую функцию sum."
   ]
  },
  {
   "cell_type": "code",
   "execution_count": 49,
   "metadata": {},
   "outputs": [
    {
     "name": "stdout",
     "output_type": "stream",
     "text": [
      "Количество игр, которая сыграла каждая команда в данном сезоне (тип игрового сезона == 'regular season'):\n"
     ]
    },
    {
     "data": {
      "text/html": [
       "<div>\n",
       "<style scoped>\n",
       "    .dataframe tbody tr th:only-of-type {\n",
       "        vertical-align: middle;\n",
       "    }\n",
       "\n",
       "    .dataframe tbody tr th {\n",
       "        vertical-align: top;\n",
       "    }\n",
       "\n",
       "    .dataframe thead th {\n",
       "        text-align: right;\n",
       "    }\n",
       "</style>\n",
       "<table border=\"1\" class=\"dataframe\">\n",
       "  <thead>\n",
       "    <tr style=\"text-align: right;\">\n",
       "      <th></th>\n",
       "      <th>result</th>\n",
       "    </tr>\n",
       "    <tr>\n",
       "      <th>team</th>\n",
       "      <th></th>\n",
       "    </tr>\n",
       "  </thead>\n",
       "  <tbody>\n",
       "    <tr>\n",
       "      <th>Arizona Diamondbacks</th>\n",
       "      <td>162</td>\n",
       "    </tr>\n",
       "    <tr>\n",
       "      <th>Minnesota Twins</th>\n",
       "      <td>162</td>\n",
       "    </tr>\n",
       "    <tr>\n",
       "      <th>Toronto Blue Jays</th>\n",
       "      <td>162</td>\n",
       "    </tr>\n",
       "    <tr>\n",
       "      <th>Texas Rangers</th>\n",
       "      <td>162</td>\n",
       "    </tr>\n",
       "    <tr>\n",
       "      <th>Tampa Bay Rays</th>\n",
       "      <td>162</td>\n",
       "    </tr>\n",
       "    <tr>\n",
       "      <th>St. Louis Cardinals</th>\n",
       "      <td>162</td>\n",
       "    </tr>\n",
       "    <tr>\n",
       "      <th>Seattle Mariners</th>\n",
       "      <td>162</td>\n",
       "    </tr>\n",
       "    <tr>\n",
       "      <th>San Francisco Giants</th>\n",
       "      <td>162</td>\n",
       "    </tr>\n",
       "    <tr>\n",
       "      <th>San Diego Padres</th>\n",
       "      <td>162</td>\n",
       "    </tr>\n",
       "    <tr>\n",
       "      <th>Pittsburgh Pirates</th>\n",
       "      <td>162</td>\n",
       "    </tr>\n",
       "    <tr>\n",
       "      <th>Philadelphia Phillies</th>\n",
       "      <td>162</td>\n",
       "    </tr>\n",
       "    <tr>\n",
       "      <th>Oakland Athletics</th>\n",
       "      <td>162</td>\n",
       "    </tr>\n",
       "    <tr>\n",
       "      <th>New York Yankees</th>\n",
       "      <td>162</td>\n",
       "    </tr>\n",
       "    <tr>\n",
       "      <th>New York Mets</th>\n",
       "      <td>162</td>\n",
       "    </tr>\n",
       "    <tr>\n",
       "      <th>Milwaukee Brewers</th>\n",
       "      <td>162</td>\n",
       "    </tr>\n",
       "    <tr>\n",
       "      <th>Los Angeles Dodgers</th>\n",
       "      <td>162</td>\n",
       "    </tr>\n",
       "    <tr>\n",
       "      <th>Los Angeles Angels of Anaheim</th>\n",
       "      <td>162</td>\n",
       "    </tr>\n",
       "    <tr>\n",
       "      <th>Kansas City Royals</th>\n",
       "      <td>162</td>\n",
       "    </tr>\n",
       "    <tr>\n",
       "      <th>Houston Astros</th>\n",
       "      <td>162</td>\n",
       "    </tr>\n",
       "    <tr>\n",
       "      <th>Colorado Rockies</th>\n",
       "      <td>162</td>\n",
       "    </tr>\n",
       "    <tr>\n",
       "      <th>Cincinnati Reds</th>\n",
       "      <td>162</td>\n",
       "    </tr>\n",
       "    <tr>\n",
       "      <th>Chicago White Sox</th>\n",
       "      <td>162</td>\n",
       "    </tr>\n",
       "    <tr>\n",
       "      <th>Chicago Cubs</th>\n",
       "      <td>162</td>\n",
       "    </tr>\n",
       "    <tr>\n",
       "      <th>Boston Red Sox</th>\n",
       "      <td>162</td>\n",
       "    </tr>\n",
       "    <tr>\n",
       "      <th>Baltimore Orioles</th>\n",
       "      <td>162</td>\n",
       "    </tr>\n",
       "    <tr>\n",
       "      <th>Washington Nationals</th>\n",
       "      <td>162</td>\n",
       "    </tr>\n",
       "    <tr>\n",
       "      <th>Atlanta Braves</th>\n",
       "      <td>161</td>\n",
       "    </tr>\n",
       "    <tr>\n",
       "      <th>Miami Marlins</th>\n",
       "      <td>161</td>\n",
       "    </tr>\n",
       "    <tr>\n",
       "      <th>Detroit Tigers</th>\n",
       "      <td>161</td>\n",
       "    </tr>\n",
       "    <tr>\n",
       "      <th>Cleveland Indians</th>\n",
       "      <td>161</td>\n",
       "    </tr>\n",
       "  </tbody>\n",
       "</table>\n",
       "</div>"
      ],
      "text/plain": [
       "                               result\n",
       "team                                 \n",
       "Arizona Diamondbacks              162\n",
       "Minnesota Twins                   162\n",
       "Toronto Blue Jays                 162\n",
       "Texas Rangers                     162\n",
       "Tampa Bay Rays                    162\n",
       "St. Louis Cardinals               162\n",
       "Seattle Mariners                  162\n",
       "San Francisco Giants              162\n",
       "San Diego Padres                  162\n",
       "Pittsburgh Pirates                162\n",
       "Philadelphia Phillies             162\n",
       "Oakland Athletics                 162\n",
       "New York Yankees                  162\n",
       "New York Mets                     162\n",
       "Milwaukee Brewers                 162\n",
       "Los Angeles Dodgers               162\n",
       "Los Angeles Angels of Anaheim     162\n",
       "Kansas City Royals                162\n",
       "Houston Astros                    162\n",
       "Colorado Rockies                  162\n",
       "Cincinnati Reds                   162\n",
       "Chicago White Sox                 162\n",
       "Chicago Cubs                      162\n",
       "Boston Red Sox                    162\n",
       "Baltimore Orioles                 162\n",
       "Washington Nationals              162\n",
       "Atlanta Braves                    161\n",
       "Miami Marlins                     161\n",
       "Detroit Tigers                    161\n",
       "Cleveland Indians                 161"
      ]
     },
     "execution_count": 49,
     "metadata": {},
     "output_type": "execute_result"
    }
   ],
   "source": [
    "number_of_games_home = data_rs[['home_team', 'home_team_win']].rename(columns={'home_team': 'team', 'home_team_win': 'result'}).groupby(['team']).count()\n",
    "number_of_games_away = data_rs[['away_team', 'home_team_loss']].rename(columns={'away_team': 'team', 'home_team_loss': 'result'}).groupby(['team']).count()\n",
    "print(\"Количество игр, которая сыграла каждая команда в данном сезоне (тип игрового сезона == 'regular season'):\")\n",
    "pd.concat([number_of_games_home, number_of_games_away]).groupby(['team']).sum('result').sort_values(by='result', ascending=False)"
   ]
  },
  {
   "cell_type": "markdown",
   "metadata": {
    "pycharm": {
     "name": "#%% md\n"
    }
   },
   "source": [
    "# 14. Какая команда выиграла наибольшое количество матчей в сезоне? (Будьте внимательны с типом матча в сезоне - season)."
   ]
  },
  {
   "cell_type": "markdown",
   "metadata": {},
   "source": [
    "для решения этой задачи, мы можем создать два отдельных DataFrame, которые будут содержать информацию о количестве сыгранных игр c победой для каждой команды, когда она была домашней и гостевой командой (из датасета с фильтром по регулярному сезону). Затем мы объединим эти два DataFrame и сгруппируем по названию команды, используя агрегирующую функцию sum. Используем сортировку по убыванию и выведем 1 строку."
   ]
  },
  {
   "cell_type": "code",
   "execution_count": 52,
   "metadata": {},
   "outputs": [
    {
     "name": "stdout",
     "output_type": "stream",
     "text": [
      "Команда, которая выиграла наибольшое количество матчей в сезоне (тип игрового сезона == 'regular season'):\n"
     ]
    },
    {
     "data": {
      "text/html": [
       "<div>\n",
       "<style scoped>\n",
       "    .dataframe tbody tr th:only-of-type {\n",
       "        vertical-align: middle;\n",
       "    }\n",
       "\n",
       "    .dataframe tbody tr th {\n",
       "        vertical-align: top;\n",
       "    }\n",
       "\n",
       "    .dataframe thead th {\n",
       "        text-align: right;\n",
       "    }\n",
       "</style>\n",
       "<table border=\"1\" class=\"dataframe\">\n",
       "  <thead>\n",
       "    <tr style=\"text-align: right;\">\n",
       "      <th></th>\n",
       "      <th>result</th>\n",
       "    </tr>\n",
       "    <tr>\n",
       "      <th>team</th>\n",
       "      <th></th>\n",
       "    </tr>\n",
       "  </thead>\n",
       "  <tbody>\n",
       "    <tr>\n",
       "      <th>Chicago Cubs</th>\n",
       "      <td>103</td>\n",
       "    </tr>\n",
       "  </tbody>\n",
       "</table>\n",
       "</div>"
      ],
      "text/plain": [
       "              result\n",
       "team                \n",
       "Chicago Cubs     103"
      ]
     },
     "execution_count": 52,
     "metadata": {},
     "output_type": "execute_result"
    }
   ],
   "source": [
    "number_of_games_home_win = data_rs[['home_team', 'home_team_win']].rename(columns={'home_team': 'team', 'home_team_win': 'result'}).groupby(['team']).sum()\n",
    "number_of_games_away_win = data_rs[['away_team', 'home_team_loss']].rename(columns={'away_team': 'team', 'home_team_loss': 'result'}).groupby(['team']).sum()\n",
    "print(\"Команда, которая выиграла наибольшое количество матчей в сезоне (тип игрового сезона == 'regular season'):\")\n",
    "pd.concat([number_of_games_home_win, number_of_games_away_win]).groupby(['team']).sum('result').sort_values(by='result', ascending=False).head(1)"
   ]
  },
  {
   "cell_type": "markdown",
   "metadata": {
    "pycharm": {
     "name": "#%% md\n"
    }
   },
   "source": [
    "# 15. Какая команда выиграла наибольшее количество домашних матчей в сезоне?"
   ]
  },
  {
   "cell_type": "markdown",
   "metadata": {},
   "source": [
    "столбец 'home_team_win' показывает 1 в случае победы домашней команды, соответственно необходимо сделать группировку по столбцу 'home_team' (название домашней команды), используя агрегирующую функцию sum (из датасета с фильтром по регулярному сезону)"
   ]
  },
  {
   "cell_type": "code",
   "execution_count": 55,
   "metadata": {},
   "outputs": [
    {
     "name": "stdout",
     "output_type": "stream",
     "text": [
      "Команда, которая выиграла наибольшее количество домашних матчей в сезоне (тип игрового сезона == 'regular season'):\n",
      "              home_team_win\n",
      "home_team                  \n",
      "Chicago Cubs             57\n"
     ]
    }
   ],
   "source": [
    "print(\"Команда, которая выиграла наибольшее количество домашних матчей в сезоне (тип игрового сезона == 'regular season'):\")\n",
    "print(data_rs[['home_team', 'home_team_win']].groupby(['home_team']).sum().sort_values(by='home_team_win',ascending=False).head(1))"
   ]
  },
  {
   "cell_type": "markdown",
   "metadata": {
    "pycharm": {
     "name": "#%% md\n"
    }
   },
   "source": [
    "# 16. Какая команда выиграла наибольшее количество гостевых матчей в сезоне?"
   ]
  },
  {
   "cell_type": "markdown",
   "metadata": {},
   "source": [
    "столбец 'home_team_loss' показывает 1 в случае победы гостевой команды, соответственно необходимо сделать группировку по столбцу 'away_team' (название гостевой команды), используя агрегирующую функцию sum (из датасета с фильтром по регулярному сезону)"
   ]
  },
  {
   "cell_type": "code",
   "execution_count": 58,
   "metadata": {},
   "outputs": [
    {
     "name": "stdout",
     "output_type": "stream",
     "text": [
      "Команда, которая выиграла наибольшее количество гостевых матчей в сезоне (тип игрового сезона == 'regular season'):\n",
      "                     home_team_loss\n",
      "away_team                          \n",
      "St. Louis Cardinals              48\n"
     ]
    }
   ],
   "source": [
    "print(\"Команда, которая выиграла наибольшее количество гостевых матчей в сезоне (тип игрового сезона == 'regular season'):\")\n",
    "print(data_rs[['away_team', 'home_team_loss']].groupby(['away_team']).sum().sort_values(by='home_team_loss',ascending=False).head(1))"
   ]
  },
  {
   "cell_type": "markdown",
   "metadata": {
    "pycharm": {
     "name": "#%% md\n"
    }
   },
   "source": [
    "# 17. Какая команда проиграла наибольшее количество матчей в сезоне?"
   ]
  },
  {
   "cell_type": "markdown",
   "metadata": {},
   "source": [
    "для решения этой задачи, мы можем создать два отдельных DataFrame, которые будут содержать информацию о количестве сыгранных игр c проигрышем для каждой команды, когда она была домашней и гостевой командой (из датасета с фильтром по регулярному сезону). Затем мы объединим эти два DataFrame и сгруппируем по названию команды, используя агрегирующую функцию sum. Используем сортировку по убыванию и выведем 1 строку."
   ]
  },
  {
   "cell_type": "code",
   "execution_count": 61,
   "metadata": {},
   "outputs": [
    {
     "name": "stdout",
     "output_type": "stream",
     "text": [
      "Команда, которая проиграла наибольшое количество матчей в сезоне (тип игрового сезона == 'regular season'):\n"
     ]
    },
    {
     "data": {
      "text/html": [
       "<div>\n",
       "<style scoped>\n",
       "    .dataframe tbody tr th:only-of-type {\n",
       "        vertical-align: middle;\n",
       "    }\n",
       "\n",
       "    .dataframe tbody tr th {\n",
       "        vertical-align: top;\n",
       "    }\n",
       "\n",
       "    .dataframe thead th {\n",
       "        text-align: right;\n",
       "    }\n",
       "</style>\n",
       "<table border=\"1\" class=\"dataframe\">\n",
       "  <thead>\n",
       "    <tr style=\"text-align: right;\">\n",
       "      <th></th>\n",
       "      <th>result</th>\n",
       "    </tr>\n",
       "    <tr>\n",
       "      <th>team</th>\n",
       "      <th></th>\n",
       "    </tr>\n",
       "  </thead>\n",
       "  <tbody>\n",
       "    <tr>\n",
       "      <th>Minnesota Twins</th>\n",
       "      <td>103</td>\n",
       "    </tr>\n",
       "  </tbody>\n",
       "</table>\n",
       "</div>"
      ],
      "text/plain": [
       "                 result\n",
       "team                   \n",
       "Minnesota Twins     103"
      ]
     },
     "execution_count": 61,
     "metadata": {},
     "output_type": "execute_result"
    }
   ],
   "source": [
    "number_of_games_home_loss = data_rs[['home_team', 'home_team_loss']].rename(columns={'home_team': 'team', 'home_team_loss': 'result'}).groupby(['team']).sum()\n",
    "number_of_games_away_loss = data_rs[['away_team', 'home_team_win']].rename(columns={'away_team': 'team', 'home_team_win': 'result'}).groupby(['team']).sum()\n",
    "print(\"Команда, которая проиграла наибольшое количество матчей в сезоне (тип игрового сезона == 'regular season'):\")\n",
    "pd.concat([number_of_games_home_loss, number_of_games_away_loss]).groupby(['team']).sum('result').sort_values(by='result', ascending=False).head(1)"
   ]
  },
  {
   "cell_type": "markdown",
   "metadata": {
    "pycharm": {
     "name": "#%% md\n"
    }
   },
   "source": [
    "# 18. Зависит ли выигрыш от количества посетителей матча? (https://pandas.pydata.org/docs/reference/api/pandas.DataFrame.cov.html)"
   ]
  },
  {
   "cell_type": "markdown",
   "metadata": {},
   "source": [
    "Вычислим ковариацию двух переменных 'attendance' - количество зрителей матча и 'home_team_win' - результат домашней команды (1 -  выигрыш) (предположим что в данной задаче речь идет о выигрыше домашней команды)"
   ]
  },
  {
   "cell_type": "code",
   "execution_count": 64,
   "metadata": {},
   "outputs": [
    {
     "data": {
      "text/plain": [
       "array([[9.73665253e+07, 2.24645590e+02],\n",
       "       [2.24645590e+02, 2.49133543e-01]])"
      ]
     },
     "execution_count": 64,
     "metadata": {},
     "output_type": "execute_result"
    }
   ],
   "source": [
    "np.cov(data.attendance, data.home_team_win, ddof=0)"
   ]
  },
  {
   "cell_type": "markdown",
   "metadata": {},
   "source": [
    "В нашем случае, положительное значение ковариации (224.645590) указывает на то, что, в целом, с увеличением количества зрителей наблюдается тенденция к увеличению вероятности победы домашней команды. Однако это значение само по себе не дает полной картины, так как ковариация зависит от единиц измерения переменных. Для более точного анализа рассмотрим коэффициент корреляции"
   ]
  },
  {
   "cell_type": "code",
   "execution_count": 66,
   "metadata": {},
   "outputs": [
    {
     "data": {
      "text/html": [
       "<div>\n",
       "<style scoped>\n",
       "    .dataframe tbody tr th:only-of-type {\n",
       "        vertical-align: middle;\n",
       "    }\n",
       "\n",
       "    .dataframe tbody tr th {\n",
       "        vertical-align: top;\n",
       "    }\n",
       "\n",
       "    .dataframe thead th {\n",
       "        text-align: right;\n",
       "    }\n",
       "</style>\n",
       "<table border=\"1\" class=\"dataframe\">\n",
       "  <thead>\n",
       "    <tr style=\"text-align: right;\">\n",
       "      <th></th>\n",
       "      <th>attendance</th>\n",
       "      <th>home_team_win</th>\n",
       "    </tr>\n",
       "  </thead>\n",
       "  <tbody>\n",
       "    <tr>\n",
       "      <th>attendance</th>\n",
       "      <td>1.000000</td>\n",
       "      <td>0.045612</td>\n",
       "    </tr>\n",
       "    <tr>\n",
       "      <th>home_team_win</th>\n",
       "      <td>0.045612</td>\n",
       "      <td>1.000000</td>\n",
       "    </tr>\n",
       "  </tbody>\n",
       "</table>\n",
       "</div>"
      ],
      "text/plain": [
       "               attendance  home_team_win\n",
       "attendance       1.000000       0.045612\n",
       "home_team_win    0.045612       1.000000"
      ]
     },
     "execution_count": 66,
     "metadata": {},
     "output_type": "execute_result"
    }
   ],
   "source": [
    "data[['attendance', 'home_team_win']].corr()"
   ]
  },
  {
   "cell_type": "code",
   "execution_count": 67,
   "metadata": {},
   "outputs": [
    {
     "data": {
      "text/plain": [
       "PearsonRResult(statistic=0.04561177364260062, pvalue=0.0235938997991939)"
      ]
     },
     "execution_count": 67,
     "metadata": {},
     "output_type": "execute_result"
    }
   ],
   "source": [
    "st.pearsonr(data.attendance, data.home_team_win)"
   ]
  },
  {
   "cell_type": "markdown",
   "metadata": {},
   "source": [
    "Получив значение корреляции (0.045612) и pvalue (0.0235938997991939) можно сделать вывод, что существует статистически значимая, но очень слабая положительная корреляция между количеством зрителей и победами домашней команды. Это может указывать на то, что, хотя и есть некоторая связь, она не является достаточно сильной, чтобы делать какие-либо уверенные выводы о влиянии количества зрителей на результат матча."
   ]
  },
  {
   "cell_type": "markdown",
   "metadata": {
    "pycharm": {
     "name": "#%% md\n"
    }
   },
   "source": [
    "# 19. Правда ли что большинство проигрышных домашних матчей приходятся на Субботу и Воскресенье?"
   ]
  },
  {
   "cell_type": "markdown",
   "metadata": {},
   "source": [
    "для того, чтобы решить эту задачу, нам необходимо посчитать число проигрышных матчей домашней команды для каждого дня недели"
   ]
  },
  {
   "cell_type": "code",
   "execution_count": 71,
   "metadata": {},
   "outputs": [
    {
     "data": {
      "text/html": [
       "<div>\n",
       "<style scoped>\n",
       "    .dataframe tbody tr th:only-of-type {\n",
       "        vertical-align: middle;\n",
       "    }\n",
       "\n",
       "    .dataframe tbody tr th {\n",
       "        vertical-align: top;\n",
       "    }\n",
       "\n",
       "    .dataframe thead th {\n",
       "        text-align: right;\n",
       "    }\n",
       "</style>\n",
       "<table border=\"1\" class=\"dataframe\">\n",
       "  <thead>\n",
       "    <tr style=\"text-align: right;\">\n",
       "      <th></th>\n",
       "      <th>loss</th>\n",
       "    </tr>\n",
       "    <tr>\n",
       "      <th>day_of_week</th>\n",
       "      <th></th>\n",
       "    </tr>\n",
       "  </thead>\n",
       "  <tbody>\n",
       "    <tr>\n",
       "      <th>Sunday</th>\n",
       "      <td>190</td>\n",
       "    </tr>\n",
       "    <tr>\n",
       "      <th>Tuesday</th>\n",
       "      <td>187</td>\n",
       "    </tr>\n",
       "    <tr>\n",
       "      <th>Friday</th>\n",
       "      <td>184</td>\n",
       "    </tr>\n",
       "    <tr>\n",
       "      <th>Saturday</th>\n",
       "      <td>175</td>\n",
       "    </tr>\n",
       "    <tr>\n",
       "      <th>Wednesday</th>\n",
       "      <td>167</td>\n",
       "    </tr>\n",
       "    <tr>\n",
       "      <th>Monday</th>\n",
       "      <td>131</td>\n",
       "    </tr>\n",
       "    <tr>\n",
       "      <th>Thursday</th>\n",
       "      <td>125</td>\n",
       "    </tr>\n",
       "  </tbody>\n",
       "</table>\n",
       "</div>"
      ],
      "text/plain": [
       "             loss\n",
       "day_of_week      \n",
       "Sunday        190\n",
       "Tuesday       187\n",
       "Friday        184\n",
       "Saturday      175\n",
       "Wednesday     167\n",
       "Monday        131\n",
       "Thursday      125"
      ]
     },
     "execution_count": 71,
     "metadata": {},
     "output_type": "execute_result"
    }
   ],
   "source": [
    "losses_by_day_of_the_week = data[data['home_team_win'] == 0][['day_of_week', 'home_team_win']].rename(columns={'home_team_win': 'loss'}).groupby(['day_of_week']).count()\n",
    "losses_by_day_of_the_week.sort_values(by='loss', ascending=False)"
   ]
  },
  {
   "cell_type": "markdown",
   "metadata": {},
   "source": [
    "далее посчитаем количество матчей по дням недели"
   ]
  },
  {
   "cell_type": "code",
   "execution_count": 73,
   "metadata": {},
   "outputs": [
    {
     "data": {
      "text/html": [
       "<div>\n",
       "<style scoped>\n",
       "    .dataframe tbody tr th:only-of-type {\n",
       "        vertical-align: middle;\n",
       "    }\n",
       "\n",
       "    .dataframe tbody tr th {\n",
       "        vertical-align: top;\n",
       "    }\n",
       "\n",
       "    .dataframe thead th {\n",
       "        text-align: right;\n",
       "    }\n",
       "</style>\n",
       "<table border=\"1\" class=\"dataframe\">\n",
       "  <thead>\n",
       "    <tr style=\"text-align: right;\">\n",
       "      <th></th>\n",
       "      <th>games</th>\n",
       "    </tr>\n",
       "    <tr>\n",
       "      <th>day_of_week</th>\n",
       "      <th></th>\n",
       "    </tr>\n",
       "  </thead>\n",
       "  <tbody>\n",
       "    <tr>\n",
       "      <th>Saturday</th>\n",
       "      <td>396</td>\n",
       "    </tr>\n",
       "    <tr>\n",
       "      <th>Friday</th>\n",
       "      <td>394</td>\n",
       "    </tr>\n",
       "    <tr>\n",
       "      <th>Sunday</th>\n",
       "      <td>392</td>\n",
       "    </tr>\n",
       "    <tr>\n",
       "      <th>Wednesday</th>\n",
       "      <td>379</td>\n",
       "    </tr>\n",
       "    <tr>\n",
       "      <th>Tuesday</th>\n",
       "      <td>376</td>\n",
       "    </tr>\n",
       "    <tr>\n",
       "      <th>Monday</th>\n",
       "      <td>278</td>\n",
       "    </tr>\n",
       "    <tr>\n",
       "      <th>Thursday</th>\n",
       "      <td>248</td>\n",
       "    </tr>\n",
       "  </tbody>\n",
       "</table>\n",
       "</div>"
      ],
      "text/plain": [
       "             games\n",
       "day_of_week       \n",
       "Saturday       396\n",
       "Friday         394\n",
       "Sunday         392\n",
       "Wednesday      379\n",
       "Tuesday        376\n",
       "Monday         278\n",
       "Thursday       248"
      ]
     },
     "execution_count": 73,
     "metadata": {},
     "output_type": "execute_result"
    }
   ],
   "source": [
    "games_by_days_of_the_week = data[['day_of_week', 'home_team_win']].rename(columns={'home_team_win': 'games'}).groupby(['day_of_week']).count()\n",
    "games_by_days_of_the_week.sort_values(by='games', ascending=False)"
   ]
  },
  {
   "cell_type": "markdown",
   "metadata": {},
   "source": [
    "объединим эти две таблицы и посчитаем долю проигрышей для каждого дня недели"
   ]
  },
  {
   "cell_type": "code",
   "execution_count": 75,
   "metadata": {},
   "outputs": [
    {
     "data": {
      "text/html": [
       "<div>\n",
       "<style scoped>\n",
       "    .dataframe tbody tr th:only-of-type {\n",
       "        vertical-align: middle;\n",
       "    }\n",
       "\n",
       "    .dataframe tbody tr th {\n",
       "        vertical-align: top;\n",
       "    }\n",
       "\n",
       "    .dataframe thead th {\n",
       "        text-align: right;\n",
       "    }\n",
       "</style>\n",
       "<table border=\"1\" class=\"dataframe\">\n",
       "  <thead>\n",
       "    <tr style=\"text-align: right;\">\n",
       "      <th></th>\n",
       "      <th>loss</th>\n",
       "      <th>games</th>\n",
       "      <th>percent_of_loss</th>\n",
       "    </tr>\n",
       "    <tr>\n",
       "      <th>day_of_week</th>\n",
       "      <th></th>\n",
       "      <th></th>\n",
       "      <th></th>\n",
       "    </tr>\n",
       "  </thead>\n",
       "  <tbody>\n",
       "    <tr>\n",
       "      <th>Thursday</th>\n",
       "      <td>125</td>\n",
       "      <td>248</td>\n",
       "      <td>50.40</td>\n",
       "    </tr>\n",
       "    <tr>\n",
       "      <th>Tuesday</th>\n",
       "      <td>187</td>\n",
       "      <td>376</td>\n",
       "      <td>49.73</td>\n",
       "    </tr>\n",
       "    <tr>\n",
       "      <th>Sunday</th>\n",
       "      <td>190</td>\n",
       "      <td>392</td>\n",
       "      <td>48.47</td>\n",
       "    </tr>\n",
       "    <tr>\n",
       "      <th>Monday</th>\n",
       "      <td>131</td>\n",
       "      <td>278</td>\n",
       "      <td>47.12</td>\n",
       "    </tr>\n",
       "    <tr>\n",
       "      <th>Friday</th>\n",
       "      <td>184</td>\n",
       "      <td>394</td>\n",
       "      <td>46.70</td>\n",
       "    </tr>\n",
       "    <tr>\n",
       "      <th>Saturday</th>\n",
       "      <td>175</td>\n",
       "      <td>396</td>\n",
       "      <td>44.19</td>\n",
       "    </tr>\n",
       "    <tr>\n",
       "      <th>Wednesday</th>\n",
       "      <td>167</td>\n",
       "      <td>379</td>\n",
       "      <td>44.06</td>\n",
       "    </tr>\n",
       "  </tbody>\n",
       "</table>\n",
       "</div>"
      ],
      "text/plain": [
       "             loss  games  percent_of_loss\n",
       "day_of_week                              \n",
       "Thursday      125    248            50.40\n",
       "Tuesday       187    376            49.73\n",
       "Sunday        190    392            48.47\n",
       "Monday        131    278            47.12\n",
       "Friday        184    394            46.70\n",
       "Saturday      175    396            44.19\n",
       "Wednesday     167    379            44.06"
      ]
     },
     "execution_count": 75,
     "metadata": {},
     "output_type": "execute_result"
    }
   ],
   "source": [
    "df = pd.merge(losses_by_day_of_the_week, games_by_days_of_the_week, left_index=True, right_index=True, how='outer')\n",
    "df['percent_of_loss'] = df.apply(lambda x: x['loss']/x['games']*100, axis=1).round(2)\n",
    "df.sort_values(by='percent_of_loss', ascending=False)"
   ]
  },
  {
   "cell_type": "markdown",
   "metadata": {},
   "source": [
    "можно сделать вывод, что в пятницу, субботу и воскресенье проводится наибольшее количество игр, но при этом доля проигрышей у домашней команды в субботу и воскресенье не является наибольшей."
   ]
  },
  {
   "cell_type": "markdown",
   "metadata": {
    "pycharm": {
     "name": "#%% md\n"
    }
   },
   "source": [
    "# 20. Правда ли что наибольшее количество ранов происходит в холодную погоду? (Холодной погодой считается погода ниже 0 градусов)"
   ]
  },
  {
   "cell_type": "markdown",
   "metadata": {},
   "source": [
    "Дла решения этой задачи, добавим новый столбец ('cold_weather'), который даст нам значение True - Холодная погода  и False - Теплая погода (при этом обратим внимание что температура указана в фаренгейтах). Т.о. я буду считать, что погода холодная, если значение столбца 'temperature' менее 32 градусов по фаренгейту или 0 градусов по цельсию"
   ]
  },
  {
   "cell_type": "code",
   "execution_count": 79,
   "metadata": {},
   "outputs": [
    {
     "name": "stdout",
     "output_type": "stream",
     "text": [
      "1\n"
     ]
    }
   ],
   "source": [
    "data['cold_weather'] = data['temperature'] < 32\n",
    "print(data['cold_weather'].sum())"
   ]
  },
  {
   "cell_type": "markdown",
   "metadata": {},
   "source": [
    "из всего датасета (первоначального, без фильтра по сезону) всего одна игра проходила при температуре ниже 0 градусов по цельсию"
   ]
  },
  {
   "cell_type": "code",
   "execution_count": 81,
   "metadata": {},
   "outputs": [
    {
     "data": {
      "text/plain": [
       "cold_weather\n",
       "False     8.932169\n",
       "True     12.000000\n",
       "Name: total_runs, dtype: float64"
      ]
     },
     "execution_count": 81,
     "metadata": {},
     "output_type": "execute_result"
    }
   ],
   "source": [
    "data.groupby('cold_weather')['total_runs'].mean()"
   ]
  },
  {
   "cell_type": "markdown",
   "metadata": {},
   "source": [
    "не смотря на то, что среднее значение для игр при холодной погоде выше, чем при теплой погоде, выводы мы никакие сделать не можем, т.к. данных для анализа не достаточно"
   ]
  }
 ],
 "metadata": {
  "kernelspec": {
   "display_name": "Python 3 (ipykernel)",
   "language": "python",
   "name": "python3"
  },
  "language_info": {
   "codemirror_mode": {
    "name": "ipython",
    "version": 3
   },
   "file_extension": ".py",
   "mimetype": "text/x-python",
   "name": "python",
   "nbconvert_exporter": "python",
   "pygments_lexer": "ipython3",
   "version": "3.12.4"
  }
 },
 "nbformat": 4,
 "nbformat_minor": 4
}
